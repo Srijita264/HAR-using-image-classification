{
  "cells": [
    {
      "cell_type": "markdown",
      "metadata": {
        "id": "view-in-github",
        "colab_type": "text"
      },
      "source": [
        "<a href=\"https://colab.research.google.com/github/Srijita264/HAR-using-image-classification/blob/main/VGG_16.ipynb\" target=\"_parent\"><img src=\"https://colab.research.google.com/assets/colab-badge.svg\" alt=\"Open In Colab\"/></a>"
      ]
    },
    {
      "cell_type": "code",
      "execution_count": null,
      "metadata": {
        "colab": {
          "base_uri": "https://localhost:8080/"
        },
        "id": "Kr8OSAjK_G0U",
        "outputId": "e649ad8b-162b-4d28-90d5-e26b1e4458b0"
      },
      "outputs": [
        {
          "output_type": "stream",
          "name": "stdout",
          "text": [
            "Mounted at /content/drive\n"
          ]
        }
      ],
      "source": [
        "from google.colab import drive\n",
        "drive.mount('/content/drive')"
      ]
    },
    {
      "cell_type": "code",
      "execution_count": null,
      "metadata": {
        "colab": {
          "base_uri": "https://localhost:8080/"
        },
        "id": "NzFB9Ffk_UzL",
        "outputId": "963ce0da-189c-4869-c81d-7e7d325a5b50"
      },
      "outputs": [
        {
          "name": "stdout",
          "output_type": "stream",
          "text": [
            "/content/drive/MyDrive/HAR Dataset\n"
          ]
        }
      ],
      "source": [
        "%cd /content/drive/MyDrive/HAR Dataset"
      ]
    },
    {
      "cell_type": "code",
      "execution_count": null,
      "metadata": {
        "colab": {
          "base_uri": "https://localhost:8080/"
        },
        "id": "ANNefcCP_UxA",
        "outputId": "4ad6a00c-626c-4505-dab4-8d89e2f4f804"
      },
      "outputs": [
        {
          "name": "stdout",
          "output_type": "stream",
          "text": [
            "Collecting pyts\n",
            "  Downloading pyts-0.13.0-py3-none-any.whl (2.5 MB)\n",
            "\u001b[?25l     \u001b[90m━━━━━━━━━━━━━━━━━━━━━━━━━━━━━━━━━━━━━━━━\u001b[0m \u001b[32m0.0/2.5 MB\u001b[0m \u001b[31m?\u001b[0m eta \u001b[36m-:--:--\u001b[0m\r\u001b[2K     \u001b[91m━━━━\u001b[0m\u001b[91m╸\u001b[0m\u001b[90m━━━━━━━━━━━━━━━━━━━━━━━━━━━━━━━━━━━\u001b[0m \u001b[32m0.3/2.5 MB\u001b[0m \u001b[31m9.3 MB/s\u001b[0m eta \u001b[36m0:00:01\u001b[0m\r\u001b[2K     \u001b[91m━━━━━━━━━━━━━━\u001b[0m\u001b[90m╺\u001b[0m\u001b[90m━━━━━━━━━━━━━━━━━━━━━━━━━\u001b[0m \u001b[32m0.9/2.5 MB\u001b[0m \u001b[31m13.1 MB/s\u001b[0m eta \u001b[36m0:00:01\u001b[0m\r\u001b[2K     \u001b[91m━━━━━━━━━━━━━━━━━━━━━━━━━\u001b[0m\u001b[91m╸\u001b[0m\u001b[90m━━━━━━━━━━━━━━\u001b[0m \u001b[32m1.6/2.5 MB\u001b[0m \u001b[31m15.7 MB/s\u001b[0m eta \u001b[36m0:00:01\u001b[0m\r\u001b[2K     \u001b[91m━━━━━━━━━━━━━━━━━━━━━━━━━━━━━━━━━━━━━━━\u001b[0m\u001b[91m╸\u001b[0m \u001b[32m2.5/2.5 MB\u001b[0m \u001b[31m18.1 MB/s\u001b[0m eta \u001b[36m0:00:01\u001b[0m\r\u001b[2K     \u001b[90m━━━━━━━━━━━━━━━━━━━━━━━━━━━━━━━━━━━━━━━━\u001b[0m \u001b[32m2.5/2.5 MB\u001b[0m \u001b[31m16.2 MB/s\u001b[0m eta \u001b[36m0:00:00\u001b[0m\n",
            "\u001b[?25hRequirement already satisfied: numpy>=1.22.4 in /usr/local/lib/python3.10/dist-packages (from pyts) (1.23.5)\n",
            "Requirement already satisfied: scipy>=1.8.1 in /usr/local/lib/python3.10/dist-packages (from pyts) (1.11.4)\n",
            "Requirement already satisfied: scikit-learn>=1.2.0 in /usr/local/lib/python3.10/dist-packages (from pyts) (1.2.2)\n",
            "Requirement already satisfied: joblib>=1.1.1 in /usr/local/lib/python3.10/dist-packages (from pyts) (1.3.2)\n",
            "Requirement already satisfied: numba>=0.55.2 in /usr/local/lib/python3.10/dist-packages (from pyts) (0.58.1)\n",
            "Requirement already satisfied: llvmlite<0.42,>=0.41.0dev0 in /usr/local/lib/python3.10/dist-packages (from numba>=0.55.2->pyts) (0.41.1)\n",
            "Requirement already satisfied: threadpoolctl>=2.0.0 in /usr/local/lib/python3.10/dist-packages (from scikit-learn>=1.2.0->pyts) (3.2.0)\n",
            "Installing collected packages: pyts\n",
            "Successfully installed pyts-0.13.0\n"
          ]
        }
      ],
      "source": [
        "pip install  pyts"
      ]
    },
    {
      "cell_type": "code",
      "execution_count": null,
      "metadata": {
        "id": "AierIkO7_Zyq"
      },
      "outputs": [],
      "source": [
        "import os\n",
        "import csv\n",
        "import shutil\n",
        "%matplotlib inline\n",
        "import numpy as np\n",
        "import pandas as pd\n",
        "from PIL import Image\n",
        "import matplotlib.pyplot as plt\n",
        "from sklearn import preprocessing\n",
        "from pyts.image import GramianAngularField\n",
        "from sklearn.preprocessing import MinMaxScaler\n",
        "from sklearn.preprocessing import LabelEncoder"
      ]
    },
    {
      "cell_type": "code",
      "execution_count": null,
      "metadata": {
        "id": "xWQdHs8J_cL2"
      },
      "outputs": [],
      "source": [
        "fig = 0"
      ]
    },
    {
      "cell_type": "code",
      "execution_count": null,
      "metadata": {
        "id": "mi1gZQtY_jIY"
      },
      "outputs": [],
      "source": [
        "train_path = '/content/drive/MyDrive/Train'\n",
        "test_path = '/content/drive/MyDrive/Test'"
      ]
    },
    {
      "cell_type": "code",
      "execution_count": null,
      "metadata": {
        "id": "0DS6kxkOGMZx"
      },
      "outputs": [],
      "source": [
        "demo = '/content/drive/MyDrive/GADF_Test_Avg_1'\n",
        "if not os.path.exists(demo):\n",
        "    os.makedirs(demo)"
      ]
    },
    {
      "cell_type": "code",
      "execution_count": null,
      "metadata": {
        "id": "WFveWkM5_nrG"
      },
      "outputs": [],
      "source": [
        "a = [i for i in os.listdir(train_path)]"
      ]
    },
    {
      "cell_type": "code",
      "execution_count": null,
      "metadata": {
        "colab": {
          "base_uri": "https://localhost:8080/"
        },
        "id": "A4lPJifcOop7",
        "outputId": "bd6603dd-bf03-4239-8e98-d296e4ee55ac"
      },
      "outputs": [
        {
          "data": {
            "text/plain": [
              "['body_gyro_y_train.csv',\n",
              " 'body_gyro_z_train.csv',\n",
              " 'body_gyro_x_train.csv',\n",
              " 'body_acc_z_train.csv',\n",
              " 'body_acc_x_train.csv',\n",
              " 'body_acc_y_train.csv',\n",
              " 'y_train.csv']"
            ]
          },
          "execution_count": 11,
          "metadata": {},
          "output_type": "execute_result"
        }
      ],
      "source": [
        "a"
      ]
    },
    {
      "cell_type": "code",
      "execution_count": null,
      "metadata": {
        "id": "pe7_NC-ggl37"
      },
      "outputs": [],
      "source": [
        "def read_acc_x_test(file_name,index):\n",
        "  df = pd.read_csv(os.path.join(test_path, file_name), header= None)\n",
        "  df_1 = df.iloc[index,0]\n",
        "  df_1 = df_1.lstrip()\n",
        "  df_1 = df_1.rstrip()\n",
        "  df_1 = df_1.replace(\" \", \",\")\n",
        "  df_1 = df_1.replace(\",,\",\",\")\n",
        "  df_1 = df_1.split(\",\")\n",
        "  df_2 = np.array(df_1,dtype=float)\n",
        "  df_2 = df_2.reshape(1,-1)\n",
        "  gaf = GramianAngularField(image_size=128, method='difference')\n",
        "  gaf_image = gaf.fit_transform(df_2)[0]\n",
        "  return gaf_image"
      ]
    },
    {
      "cell_type": "code",
      "execution_count": null,
      "metadata": {
        "id": "7FbebQLEgl7R"
      },
      "outputs": [],
      "source": [
        "def read_acc_y_test(file_name,index):\n",
        "  df = pd.read_csv(os.path.join(test_path, file_name), header= None)\n",
        "  df_1 = df.iloc[index,0]\n",
        "  df_1 = df_1.lstrip()\n",
        "  df_1 = df_1.rstrip()\n",
        "  df_1 = df_1.replace(\" \", \",\")\n",
        "  df_1 = df_1.replace(\",,\",\",\")\n",
        "  df_1 = df_1.split(\",\")\n",
        "  df_2 = np.array(df_1,dtype=float)\n",
        "  df_2 = df_2.reshape(1,-1)\n",
        "  gaf = GramianAngularField(image_size=128, method='difference')\n",
        "  gaf_image = gaf.fit_transform(df_2)[0]\n",
        "  return gaf_image"
      ]
    },
    {
      "cell_type": "code",
      "execution_count": null,
      "metadata": {
        "id": "nWmrryrigl-h"
      },
      "outputs": [],
      "source": [
        "def read_acc_z_test(file_name,index):\n",
        "  df = pd.read_csv(os.path.join(test_path, file_name), header= None)\n",
        "  df_1 = df.iloc[index,0]\n",
        "  df_1 = df_1.lstrip()\n",
        "  df_1 = df_1.rstrip()\n",
        "  df_1 = df_1.replace(\" \", \",\")\n",
        "  df_1 = df_1.replace(\",,\",\",\")\n",
        "  df_1 = df_1.split(\",\")\n",
        "  df_2 = np.array(df_1,dtype=float)\n",
        "  df_2 = df_2.reshape(1,-1)\n",
        "  gaf = GramianAngularField(image_size=128, method='difference')\n",
        "  gaf_image = gaf.fit_transform(df_2)[0]\n",
        "  return gaf_image"
      ]
    },
    {
      "cell_type": "code",
      "execution_count": null,
      "metadata": {
        "id": "PkNGeJMngmBt"
      },
      "outputs": [],
      "source": [
        "def read_gyr_x_test(file_name,index):\n",
        "  df = pd.read_csv(os.path.join(test_path, file_name), header= None)\n",
        "  df_1 = df.iloc[index,0]\n",
        "  df_1 = df_1.lstrip()\n",
        "  df_1 = df_1.rstrip()\n",
        "  df_1 = df_1.replace(\" \", \",\")\n",
        "  df_1 = df_1.replace(\",,\",\",\")\n",
        "  df_1 = df_1.split(\",\")\n",
        "  df_2 = np.array(df_1,dtype=float)\n",
        "  df_2 = df_2.reshape(1,-1)\n",
        "  gaf = GramianAngularField(image_size=128, method='difference')\n",
        "  gaf_image = gaf.fit_transform(df_2)[0]\n",
        "  return gaf_image"
      ]
    },
    {
      "cell_type": "code",
      "execution_count": null,
      "metadata": {
        "id": "NXsom88ugmE0"
      },
      "outputs": [],
      "source": [
        "def read_gyr_y_test(file_name,index):\n",
        "  df = pd.read_csv(os.path.join(test_path, file_name), header= None)\n",
        "  df_1 = df.iloc[index,0]\n",
        "  df_1 = df_1.lstrip()\n",
        "  df_1 = df_1.rstrip()\n",
        "  df_1 = df_1.replace(\" \", \",\")\n",
        "  df_1 = df_1.replace(\",,\",\",\")\n",
        "  df_1 = df_1.split(\",\")\n",
        "  df_2 = np.array(df_1,dtype=float)\n",
        "  df_2 = df_2.reshape(1,-1)\n",
        "  gaf = GramianAngularField(image_size=128, method='difference')\n",
        "  gaf_image = gaf.fit_transform(df_2)[0]\n",
        "  return gaf_image"
      ]
    },
    {
      "cell_type": "code",
      "execution_count": null,
      "metadata": {
        "id": "I04oKAbzgmH8"
      },
      "outputs": [],
      "source": [
        "def read_gyr_z_test(file_name,index):\n",
        "  df = pd.read_csv(os.path.join(test_path, file_name), header= None)\n",
        "  df_1 = df.iloc[index,0]\n",
        "  df_1 = df_1.lstrip()\n",
        "  df_1 = df_1.rstrip()\n",
        "  df_1 = df_1.replace(\" \", \",\")\n",
        "  df_1 = df_1.replace(\",,\",\",\")\n",
        "  df_1 = df_1.split(\",\")\n",
        "  df_2 = np.array(df_1,dtype=float)\n",
        "  df_2 = df_2.reshape(1,-1)\n",
        "  gaf = GramianAngularField(image_size=128, method='difference')\n",
        "  gaf_image = gaf.fit_transform(df_2)[0]\n",
        "  return gaf_image"
      ]
    },
    {
      "cell_type": "code",
      "execution_count": null,
      "metadata": {
        "id": "Aztz7Z1LhM6C"
      },
      "outputs": [],
      "source": [
        "\n",
        "labels_df = pd.read_csv('/content/drive/MyDrive/y_test.csv', header=None)\n",
        "\n",
        "# Loop through each row in the labels dataframe\n",
        "for index, row in labels_df.iterrows():\n",
        "    if index >= 0:\n",
        "        label = row[0]\n",
        "        gaf1 = read_acc_x_test('Copy of body_acc_x_test.csv', index)\n",
        "        gaf2 = read_acc_y_test('Copy of body_acc_x_test.csv', index)\n",
        "        gaf3 = read_acc_z_test('Copy of body_acc_x_test.csv', index)\n",
        "        gaf4 = read_gyr_x_test('Copy of body_gyro_x_test.csv', index)\n",
        "        gaf5 = read_gyr_y_test('Copy of body_gyro_y_test.csv', index)\n",
        "        gaf6 = read_gyr_z_test('Copy of body_gyro_z_test.csv', index)\n",
        "\n",
        "        gaf_mean = np.mean((gaf1, gaf2, gaf3, gaf4, gaf5, gaf6), axis=0)\n",
        "\n",
        "        # Create subdirectories if they don't exist\n",
        "        class_dir = os.path.join(demo, f\"Class {label}\")\n",
        "        os.makedirs(class_dir, exist_ok=True)\n",
        "\n",
        "        # Save the image directly without displaying it\n",
        "        plt.imsave(os.path.join(class_dir, f\"{index+1}.png\"), gaf_mean, cmap='coolwarm', format='png', origin='lower', dpi=300)"
      ]
    },
    {
      "cell_type": "code",
      "execution_count": null,
      "metadata": {
        "colab": {
          "background_save": true,
          "base_uri": "https://localhost:8080/"
        },
        "id": "JOgchAx_2IhZ",
        "outputId": "a791d791-1515-4439-b56b-7815696f3d0b"
      },
      "outputs": [
        {
          "name": "stdout",
          "output_type": "stream",
          "text": [
            "Found 6304 images belonging to 6 classes.\n",
            "Found 1048 images belonging to 6 classes.\n",
            "Found 2947 images belonging to 6 classes.\n",
            "Epoch 1/12\n",
            "197/197 [==============================] - 1225s 6s/step - loss: 1.6199 - accuracy: 0.2524 - val_loss: 1.0612 - val_accuracy: 0.5191\n",
            "Epoch 2/12\n",
            "197/197 [==============================] - 599s 3s/step - loss: 0.9310 - accuracy: 0.5652 - val_loss: 0.7637 - val_accuracy: 0.6460\n",
            "Epoch 3/12\n",
            "197/197 [==============================] - 616s 3s/step - loss: 0.6755 - accuracy: 0.6800 - val_loss: 0.6422 - val_accuracy: 0.6823\n",
            "Epoch 4/12\n",
            "197/197 [==============================] - 636s 3s/step - loss: 0.5767 - accuracy: 0.7262 - val_loss: 0.6480 - val_accuracy: 0.6813\n",
            "Epoch 5/12\n",
            "197/197 [==============================] - 591s 3s/step - loss: 0.5138 - accuracy: 0.7589 - val_loss: 0.7663 - val_accuracy: 0.6775\n",
            "Epoch 6/12\n",
            "197/197 [==============================] - 619s 3s/step - loss: 0.4435 - accuracy: 0.8057 - val_loss: 0.8015 - val_accuracy: 0.6765\n",
            "Epoch 7/12\n",
            "197/197 [==============================] - 636s 3s/step - loss: 0.3597 - accuracy: 0.8523 - val_loss: 0.9828 - val_accuracy: 0.6574\n",
            "Epoch 8/12\n",
            "197/197 [==============================] - 628s 3s/step - loss: 0.2676 - accuracy: 0.8944 - val_loss: 1.1057 - val_accuracy: 0.6775\n",
            "Epoch 9/12\n",
            "197/197 [==============================] - 596s 3s/step - loss: 0.1638 - accuracy: 0.9370 - val_loss: 1.3713 - val_accuracy: 0.6565\n",
            "Epoch 10/12\n",
            "197/197 [==============================] - 613s 3s/step - loss: 0.1308 - accuracy: 0.9564 - val_loss: 1.4817 - val_accuracy: 0.6498\n",
            "Epoch 11/12\n",
            "197/197 [==============================] - 598s 3s/step - loss: 0.0962 - accuracy: 0.9683 - val_loss: 1.4846 - val_accuracy: 0.6718\n",
            "Epoch 12/12\n",
            "197/197 [==============================] - 615s 3s/step - loss: 0.0672 - accuracy: 0.9784 - val_loss: 1.8413 - val_accuracy: 0.6555\n",
            "93/93 [==============================] - 71s 760ms/step - loss: 2.0632 - accuracy: 0.6549\n",
            "Accuracy: 0.6549032926559448\n"
          ]
        },
        {
          "data": {
            "image/png": "[encoded data removed]",
            "text/plain": [
              "<Figure size 1200x400 with 2 Axes>"
            ]
          },
          "metadata": {},
          "output_type": "display_data"
        }
      ],
      "source": [
        "import os\n",
        "import numpy as np\n",
        "from tensorflow.keras.models import Sequential\n",
        "from tensorflow.keras.layers import Conv2D, MaxPool2D, Flatten, Dense, Dropout\n",
        "from tensorflow.keras.preprocessing.image import ImageDataGenerator\n",
        "\n",
        "# Set the path to your training and testing datasets\n",
        "train_data_dir = \"/content/drive/MyDrive/GADF_Train_Avg_1\"\n",
        "test_data_dir = '/content/drive/MyDrive/GADF_Test_Avg_1'\n",
        "\n",
        "# Get the list of class labels\n",
        "class_labels = sorted(os.listdir(train_data_dir))\n",
        "\n",
        "# Set parameters\n",
        "input_shape = (128, 128, 3)  # 3 is for RGB\n",
        "num_classes = len(class_labels)\n",
        "batch_size = 32\n",
        "epochs = 12\n",
        "\n",
        "model = Sequential()\n",
        "model.add(Conv2D(32, kernel_size=(3, 3), padding='same', activation='relu', input_shape=(128, 128, 3)))\n",
        "model.add(Conv2D(32, kernel_size=(3, 3), padding='same', activation='relu'))\n",
        "model.add(MaxPool2D(pool_size=(2, 2), strides=2, padding='valid'))\n",
        "model.add(Conv2D(64, kernel_size=(3, 3), padding='same', activation='relu'))\n",
        "model.add(Conv2D(64, kernel_size=(3, 3), padding='same', activation='relu'))\n",
        "model.add(MaxPool2D(pool_size=(2, 2), strides=2, padding='valid'))\n",
        "model.add(Conv2D(128, kernel_size=(3, 3), padding='same', activation='relu'))\n",
        "model.add(MaxPool2D(pool_size=(2, 2), strides=2, padding='valid'))\n",
        "model.add(Flatten())\n",
        "model.add(Dense(256, activation='relu'))\n",
        "model.add(Dropout(0.2))\n",
        "model.add(Dense(128, activation='relu'))\n",
        "model.add(Dense(6, activation='softmax'))\n",
        "\n",
        "# Compile the model\n",
        "model.compile(optimizer='adam', loss='categorical_crossentropy', metrics=['accuracy'])\n",
        "\n",
        "# Load and preprocess training data using ImageDataGenerator\n",
        "train_datagen = ImageDataGenerator(rescale=1./255, validation_split=1/7)\n",
        "train_generator = train_datagen.flow_from_directory(\n",
        "    train_data_dir,\n",
        "    target_size=(128, 128),\n",
        "    batch_size=batch_size,\n",
        "    class_mode='categorical',\n",
        "    subset='training'  # Specify 'training' for the training set\n",
        ")\n",
        "\n",
        "# Validation generator using the same data generator but with a different subset\n",
        "validation_generator = train_datagen.flow_from_directory(\n",
        "    train_data_dir,\n",
        "    target_size=(128, 128),\n",
        "    batch_size=batch_size,\n",
        "    class_mode='categorical',\n",
        "    subset='validation'  # Specify 'validation' for the validation set\n",
        ")\n",
        "\n",
        "# Load and preprocess testing data\n",
        "test_datagen = ImageDataGenerator(rescale=1./255)\n",
        "test_generator = test_datagen.flow_from_directory(\n",
        "    test_data_dir,\n",
        "    target_size=(128, 128),\n",
        "    batch_size=batch_size,\n",
        "    class_mode='categorical',\n",
        "    shuffle=False  # Important: set shuffle to False for correct label matching\n",
        ")\n",
        "\n",
        "# Train the model with validation data\n",
        "history = model.fit(\n",
        "    train_generator,\n",
        "    epochs=epochs,\n",
        "    validation_data=validation_generator\n",
        ")\n",
        "\n",
        "# Evaluate the model on the testing dataset\n",
        "accuracy = model.evaluate(test_generator)[1]\n",
        "print(f\"Accuracy: {accuracy}\")\n",
        "\n",
        "# Access training history for plotting\n",
        "train_accuracy = history.history['accuracy']\n",
        "val_accuracy = history.history['val_accuracy']\n",
        "train_loss = history.history['loss']\n",
        "val_loss = history.history['val_loss']\n",
        "\n",
        "# Plot accuracy\n",
        "import matplotlib.pyplot as plt\n",
        "\n",
        "epochs_range = range(1, epochs + 1)\n",
        "plt.figure(figsize=(12, 4))\n",
        "\n",
        "plt.subplot(1, 2, 1)\n",
        "plt.plot(epochs_range, train_accuracy, label='Training Accuracy')\n",
        "plt.plot(epochs_range, val_accuracy, label='Validation Accuracy')\n",
        "plt.xlabel('Epochs')\n",
        "plt.ylabel('Accuracy')\n",
        "plt.legend()\n",
        "\n",
        "# Plot loss\n",
        "plt.subplot(1, 2, 2)\n",
        "plt.plot(epochs_range, train_loss, label='Training Loss')\n",
        "plt.plot(epochs_range, val_loss, label='Validation Loss')\n",
        "plt.xlabel('Epochs')\n",
        "plt.ylabel('Loss')\n",
        "plt.legend()\n",
        "\n",
        "plt.show()\n"
      ]
    }
  ],
  "metadata": {
    "colab": {
      "provenance": [],
      "include_colab_link": true
    },
    "kernelspec": {
      "display_name": "Python 3",
      "name": "python3"
    },
    "language_info": {
      "name": "python"
    }
  },
  "nbformat": 4,
  "nbformat_minor": 0
}