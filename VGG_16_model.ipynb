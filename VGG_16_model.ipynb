{
  "cells": [
    {
      "cell_type": "markdown",
      "metadata": {
        "id": "view-in-github",
        "colab_type": "text"
      },
      "source": [
        "<a href=\"https://colab.research.google.com/github/Srijita264/HAR-using-image-classification/blob/main/VGG_16_model.ipynb\" target=\"_parent\"><img src=\"https://colab.research.google.com/assets/colab-badge.svg\" alt=\"Open In Colab\"/></a>"
      ]
    },
    {
      "cell_type": "code",
      "execution_count": null,
      "metadata": {
        "colab": {
          "base_uri": "https://localhost:8080/"
        },
        "id": "iFzHVCRHjWic",
        "outputId": "138f0144-d360-4e6e-f0a9-78c590f3d983"
      },
      "outputs": [
        {
          "output_type": "stream",
          "name": "stdout",
          "text": [
            "Mounted at /content/drive\n"
          ]
        }
      ],
      "source": [
        "from google.colab import drive\n",
        "drive.mount('/content/drive')"
      ]
    },
    {
      "cell_type": "code",
      "source": [
        "import tensorflow as tf\n",
        "import cv2\n",
        "import numpy as np\n",
        "import os\n",
        "from keras.layers import Dense, Flatten, Conv2D, Activation, Dropout\n",
        "from keras import backend as K\n",
        "import keras\n",
        "from keras.models import Sequential\n",
        "from keras.optimizers import Adam\n",
        "from keras.callbacks import EarlyStopping, ModelCheckpoint\n",
        "from keras.preprocessing.image import ImageDataGenerator\n",
        "from keras.layers import MaxPool2D\n",
        "from google.colab.patches import cv2_imshow\n",
        "import pandas as pd\n",
        "from keras.utils import to_categorical\n",
        "from tensorflow.keras import layers, models\n",
        "import pandas as pd"
      ],
      "metadata": {
        "id": "fBN9OMRy5bIw"
      },
      "execution_count": null,
      "outputs": []
    },
    {
      "cell_type": "code",
      "source": [
        "y_train = pd.read_csv('/content/drive/MyDrive/y_train.csv', header=None)\n",
        "y_test = pd.read_csv('/content/drive/MyDrive/y_test.csv', header=None)\n",
        "\n",
        "# Converting labels to string\n",
        "y_train[0] = y_train[0].astype(str)\n",
        "y_test[0] = y_test[0].astype(str)\n",
        "\n",
        "# Converting labels to one-hot encoding\n",
        "y_train_one_hot = to_categorical(y_train[0].astype(int))\n",
        "y_test_one_hot = to_categorical(y_test[0].astype(int))\n",
        "\n",
        "# Defining the image size and batch size\n",
        "img_size = (128, 128)\n",
        "batch_size = 32\n",
        "\n",
        "# Creating data generators for training and validation\n",
        "train_datagen = ImageDataGenerator(rescale=1./255, validation_split=0.2)\n",
        "train_generator = train_datagen.flow_from_dataframe(\n",
        "    pd.DataFrame({\n",
        "        'filename': ['/content/drive/MyDrive/GAF_DIFF_TRAIN/{}.png'.format(i) for i in range(1, len(y_train) + 1)],\n",
        "        'label': y_train[0]\n",
        "    }),\n",
        "    x_col='filename',\n",
        "    y_col='label',\n",
        "    target_size=img_size,\n",
        "    batch_size=batch_size,\n",
        "    class_mode='categorical',  # Assuming it's a classification task\n",
        "    subset='training'\n",
        ")\n",
        "\n",
        "validation_generator = train_datagen.flow_from_dataframe(\n",
        "    pd.DataFrame({\n",
        "        'filename': ['/content/drive/MyDrive/GAF_DIFF_TRAIN/{}.png'.format(i) for i in range(1, len(y_train) + 1)],\n",
        "        'label': y_train[0]\n",
        "    }),\n",
        "    x_col='filename',\n",
        "    y_col='label',\n",
        "    target_size=img_size,\n",
        "    batch_size=batch_size,\n",
        "    class_mode='categorical',\n",
        "    subset='validation'\n",
        ")\n",
        "\n",
        "# Creating data generator for testing\n",
        "test_datagen = ImageDataGenerator(rescale=1./255)\n",
        "test_generator = test_datagen.flow_from_dataframe(\n",
        "    pd.DataFrame({\n",
        "        'filename': ['/content/drive/MyDrive/GAF_DIFF_TEST/{}.png'.format(i) for i in range(1, len(y_test) + 1)],\n",
        "        'label': y_test[0]\n",
        "    }),\n",
        "    x_col='filename',\n",
        "    y_col='label',\n",
        "    target_size=img_size,\n",
        "    batch_size=batch_size,\n",
        "    class_mode='categorical',\n",
        ")\n",
        "\n",
        "model = Sequential()\n",
        "model.add(Conv2D(32, kernel_size=(3, 3), padding='same', activation='relu', input_shape=(128, 128, 3)))\n",
        "model.add(Conv2D(32, kernel_size=(3, 3), padding='same', activation='relu'))\n",
        "model.add(MaxPool2D(pool_size=(2, 2), strides=2, padding='valid'))\n",
        "model.add(Conv2D(64, kernel_size=(3, 3), padding='same', activation='relu'))\n",
        "model.add(Conv2D(64, kernel_size=(3, 3), padding='same', activation='relu'))\n",
        "model.add(MaxPool2D(pool_size=(2, 2), strides=2, padding='valid'))\n",
        "model.add(Conv2D(128, kernel_size=(3, 3), padding='same', activation='relu'))\n",
        "model.add(MaxPool2D(pool_size=(2, 2), strides=2, padding='valid'))\n",
        "model.add(Flatten())\n",
        "model.add(Dense(256, activation='relu'))\n",
        "model.add(Dropout(0.2))\n",
        "model.add(Dense(128, activation='relu'))\n",
        "model.add(Dense(6, activation='softmax'))\n",
        "\n",
        "# Compile the model\n",
        "model.compile(optimizer=Adam(learning_rate=0.0001),\n",
        "              loss='categorical_crossentropy',\n",
        "              metrics=['accuracy'])\n",
        "\n"
      ],
      "metadata": {
        "id": "l9ERA3p7Y8Bg"
      },
      "execution_count": null,
      "outputs": []
    },
    {
      "cell_type": "code",
      "source": [
        "from keras.callbacks import ModelCheckpoint, EarlyStopping\n",
        "checkpoint = ModelCheckpoint(\"model_1.h5\", monitor='val_acc', verbose=1, save_best_only=True, save_weights_only=False, mode='auto', period=1)\n",
        "early = EarlyStopping(monitor='val_acc', min_delta=0, patience=20, verbose=1, mode='auto')\n"
      ],
      "metadata": {
        "id": "IQN5Z6CsT2Eq"
      },
      "execution_count": null,
      "outputs": []
    },
    {
      "cell_type": "code",
      "source": [
        "history = model.fit(train_generator,\n",
        "                    epochs=20,\n",
        "                    validation_data=validation_generator,\n",
        "\n",
        "                    callbacks=[checkpoint, early])\n",
        "\n",
        "# Evaluate the model on the test set\n",
        "test_loss, test_acc = model.evaluate(test_generator, steps=len(test_generator))\n",
        "print(f'Test Accuracy: {test_acc}')\n"
      ],
      "metadata": {
        "id": "XtygEnCtT5BK"
      },
      "execution_count": null,
      "outputs": []
    }
  ],
  "metadata": {
    "colab": {
      "provenance": [],
      "authorship_tag": "ABX9TyPEBIoRi84MwlRaD6/MZx7n",
      "include_colab_link": true
    },
    "kernelspec": {
      "display_name": "Python 3",
      "name": "python3"
    },
    "language_info": {
      "name": "python"
    }
  },
  "nbformat": 4,
  "nbformat_minor": 0
}